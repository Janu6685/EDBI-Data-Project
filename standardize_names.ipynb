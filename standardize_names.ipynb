{
 "cells": [
  {
   "cell_type": "markdown",
   "id": "327e90ca-0b15-4ba7-956b-f3614c9f5c6f",
   "metadata": {
    "jp-MarkdownHeadingCollapsed": true
   },
   "source": [
    "## 1. Setup Environment"
   ]
  },
  {
   "cell_type": "markdown",
   "id": "73198dbf-2f43-4e41-9888-9895f3982002",
   "metadata": {
    "jp-MarkdownHeadingCollapsed": true
   },
   "source": [
    "### 1.1 Import necessary Libraries (Pandas, Fuzzywuzzy)"
   ]
  },
  {
   "cell_type": "code",
   "execution_count": 3,
   "id": "5d854a80-d052-47dc-b5b0-59d80df73603",
   "metadata": {},
   "outputs": [
    {
     "name": "stderr",
     "output_type": "stream",
     "text": [
      "C:\\Users\\Janu\\anaconda3\\Lib\\site-packages\\fuzzywuzzy\\fuzz.py:11: UserWarning: Using slow pure-python SequenceMatcher. Install python-Levenshtein to remove this warning\n",
      "  warnings.warn('Using slow pure-python SequenceMatcher. Install python-Levenshtein to remove this warning')\n"
     ]
    }
   ],
   "source": [
    "import pandas as pd\n",
    "import json\n",
    "\n",
    "# Install required package if missing\n",
    "try:\n",
    "    from fuzzywuzzy import fuzz, process\n",
    "except ImportError:\n",
    "    !pip install fuzzywuzzy python-Levenshtein\n",
    "    from fuzzywuzzy import fuzz, process"
   ]
  },
  {
   "cell_type": "markdown",
   "id": "28fbda71-e2b7-4d79-8ba9-4e17c0d6c3d1",
   "metadata": {
    "jp-MarkdownHeadingCollapsed": true
   },
   "source": [
    "### 1.2 Set File paths"
   ]
  },
  {
   "cell_type": "code",
   "execution_count": 5,
   "id": "84fd2229-4c67-4813-a43d-2a97272e7570",
   "metadata": {},
   "outputs": [],
   "source": [
    "crm_path = \"crm_data.json\"\n",
    "financial_path = \"financial_data.json\"\n",
    "excel_path = \"excel_data.xlsx\"\n",
    "staging_path = \"staging_table.xlsx\"\n",
    "intermediate_path = \"intermediate_validation.xlsx\"\n",
    "master_ref_path = \"master_reference_table.xlsx\""
   ]
  },
  {
   "cell_type": "markdown",
   "id": "fce7375e-39f9-49bf-b450-3bf6b9a363dc",
   "metadata": {
    "jp-MarkdownHeadingCollapsed": true
   },
   "source": [
    "## 2. Create Sample Data for System A, System B & Excel Data"
   ]
  },
  {
   "cell_type": "markdown",
   "id": "8855e995-421e-4bd1-837f-3c3b1b568def",
   "metadata": {
    "jp-MarkdownHeadingCollapsed": true
   },
   "source": [
    "### 2.1 Data for System A (JSON Format)"
   ]
  },
  {
   "cell_type": "code",
   "execution_count": 8,
   "id": "2bc1c304-af11-4657-a5c2-6fe94034b975",
   "metadata": {},
   "outputs": [],
   "source": [
    "import json\n",
    "import random\n",
    "\n",
    "crm_companies = [\n",
    "    \"RapidSoft Consulting\", \"SkyNet Systems\", \"ACME Pte Ltd\",\"Novartis Pte Ltd\",\"Leung Kai Fook Medical Co Pte Ltd\",\n",
    "    \"Alpha Tech Holdings\", \"Sunrise Innovations\", \"Icon Technologies Pte Ltd\",\"Katra Phytochem Pte Ltd\",\n",
    "    \"NextGen Solutions Pte Ltd\", \"EverGreen Technologies\", \"Zentact Systems Pte Ltd\", \"Mc Donalds Ltd\",\n",
    "    \"Blue Ocean Group\", \"Global-X Corporation\", \"Quantum Dynamics\",\"Zenith Infotech\",\"Maker Trading Pte Ltd\"\n",
    "]\n",
    "\n",
    "crm_data = [{\"CompanyID\": i+1, \"CompanyName\": random.choice(crm_companies)} \n",
    "            for i in range(100)]\n",
    "\n",
    "with open(\"crm_data.json\", \"w\") as f:\n",
    "    json.dump(crm_data, f, indent=4)\n"
   ]
  },
  {
   "cell_type": "markdown",
   "id": "e13735b5-faed-4c61-ad36-eae07a04b053",
   "metadata": {
    "jp-MarkdownHeadingCollapsed": true
   },
   "source": [
    "### 2.2 Data for System B(JSON Format)"
   ]
  },
  {
   "cell_type": "code",
   "execution_count": 10,
   "id": "84fa79e9-0693-4f5d-9b6a-f3d550f0e983",
   "metadata": {},
   "outputs": [],
   "source": [
    "finance_companies = [\n",
    "    \"RapidSoft Ltd.\", \"SkyNet Ltd.\", \"ACME Limited\",\"Novartis Ltd\",\"LKFM Co Pte Ltd\",\n",
    "    \"Alpha Technologies\", \"Sunrise Inc.\", \"Icon Technologies\",\"Katra\",\n",
    "    \"NextGen Solutions Ltd\", \"EverGreen Tech Ltd\",\"Zentact Systems\",\"Maker Trading\",\n",
    "    \"Blue Ocean Ltd\", \"Global X Corp.\", \"Quantum Dyn Ltd.\",\"Zenith\", \"McDonalds\"\n",
    "]\n",
    "\n",
    "finance_data = [{\"CompanyID\": i+1, \"CompanyName\": random.choice(finance_companies)} \n",
    "               for i in range(100)]\n",
    "\n",
    "with open(\"financial_data.json\", \"w\") as f:\n",
    "    json.dump(finance_data, f, indent=4)"
   ]
  },
  {
   "cell_type": "markdown",
   "id": "c7f2aafd-1fc0-4fad-b619-a31b6fdf4b28",
   "metadata": {
    "jp-MarkdownHeadingCollapsed": true
   },
   "source": [
    "### 2.3 Data for Excel"
   ]
  },
  {
   "cell_type": "code",
   "execution_count": 12,
   "id": "be3d922e-0184-40be-8f33-be18e3f0bb16",
   "metadata": {},
   "outputs": [],
   "source": [
    "import pandas as pd\n",
    "import random\n",
    "\n",
    "excel_companies = [\n",
    "    \"Rapid Soft\", \"Sky Net\", \"Acme Inc.\", \"ALPHA TECH\",\"Novartis\",\"LKFM\",\n",
    "    \"Sunrise Innovations Pte\", \"NextGen Solutions\",\"Icon Tech\", \"Katra\",\n",
    "    \"EverGreen Tech\", \"Blue Ocean\", \"Global X\", \"Zentact\", \"Maker Trading Ltd\",\n",
    "    \"Quantum Dynamics Inc.\", \"Zenith Systems Ltd\", \"McD\"\n",
    "]\n",
    "\n",
    "excel_data = pd.DataFrame({\n",
    "    \"CompanyID\": range(1, 101),\n",
    "    \"CompanyName\": [random.choice(excel_companies) for _ in range(100)]\n",
    "})\n",
    "\n",
    "excel_data.to_excel(\"excel_data.xlsx\", index=False)"
   ]
  },
  {
   "cell_type": "markdown",
   "id": "30c875b6-245f-4c1b-9eb9-2d06f5409cfd",
   "metadata": {
    "jp-MarkdownHeadingCollapsed": true
   },
   "source": [
    "### 2.4 Verify the generated data"
   ]
  },
  {
   "cell_type": "code",
   "execution_count": 14,
   "id": "b54ec87b-82d1-486b-b11c-83acc85a75c9",
   "metadata": {},
   "outputs": [
    {
     "name": "stdout",
     "output_type": "stream",
     "text": [
      "CRM Records: 100\n",
      "Financial Records: 100\n",
      "Excel Records: 100\n"
     ]
    }
   ],
   "source": [
    "\n",
    "# Verify CRM data\n",
    "with open(\"crm_data.json\") as f:\n",
    "    print(\"CRM Records:\", len(json.load(f)))  # Should show 100\n",
    "\n",
    "# Verify Financial data\n",
    "with open(\"financial_data.json\") as f:\n",
    "    print(\"Financial Records:\", len(json.load(f)))  # Should show 100\n",
    "\n",
    "# Verify Excel data\n",
    "print(\"Excel Records:\", len(pd.read_excel(\"excel_data.xlsx\")))  # Should show 100\n"
   ]
  },
  {
   "cell_type": "markdown",
   "id": "a3bb2d54-25ad-46f3-9f36-d40559e2f437",
   "metadata": {
    "jp-MarkdownHeadingCollapsed": true
   },
   "source": [
    "## 3. Loading Data"
   ]
  },
  {
   "cell_type": "code",
   "execution_count": 16,
   "id": "05d5e436-c70b-4bff-9f13-fc10735d8c16",
   "metadata": {},
   "outputs": [],
   "source": [
    "# Load source data\n",
    "with open(crm_path) as f:\n",
    "    crm_data = pd.DataFrame(json.load(f))\n",
    "with open(financial_path) as f:\n",
    "    financial_data = pd.DataFrame(json.load(f))\n",
    "excel_data = pd.read_excel(excel_path)\n",
    "\n",
    "# Add System Names\n",
    "crm_data[\"System Name\"] = \"CRM\"\n",
    "financial_data[\"System Name\"] = \"FIN\"\n",
    "excel_data[\"System Name\"] = \"EXCEL\"\n"
   ]
  },
  {
   "cell_type": "markdown",
   "id": "59985c17-b4a2-4e5c-86d9-4caed190c787",
   "metadata": {
    "jp-MarkdownHeadingCollapsed": true
   },
   "source": [
    "## 4. Validate the basic assumptions"
   ]
  },
  {
   "cell_type": "code",
   "execution_count": 18,
   "id": "0a5539cc-9d1b-44ee-b515-8d00bc5b2f7a",
   "metadata": {},
   "outputs": [],
   "source": [
    "def clean_company_name(name):\n",
    "    if pd.isna(name): return \"\"\n",
    "    return (str(name).lower()\n",
    "            .replace(\",\", \"\").strip()\n",
    "            .replace(\" ltd\", \" \").replace(\" pte\", \" \")\n",
    "            .replace(\" inc\", \" \").replace(\" corporation\", \" \")\n",
    "            .replace(\" corp\", \" \").replace(\" limited\", \" \")\n",
    "            .replace(\" co\", \" \").replace(\"  \", \" \")\n",
    "           )"
   ]
  },
  {
   "cell_type": "code",
   "execution_count": 19,
   "id": "9c7f984a-9034-45d7-8580-35d746d9bb43",
   "metadata": {},
   "outputs": [],
   "source": [
    "for df in [crm_data, financial_data, excel_data]:\n",
    "    df[\"Prepared Company Name\"] = df[\"CompanyName\"].apply(clean_company_name)"
   ]
  },
  {
   "cell_type": "markdown",
   "id": "1a197c43-bac1-4800-8d8f-34df5ed42623",
   "metadata": {
    "jp-MarkdownHeadingCollapsed": true
   },
   "source": [
    "## 5. Create Staging Table\n",
    "\n",
    "Create staging table by merging records from all 3 datasets"
   ]
  },
  {
   "cell_type": "code",
   "execution_count": 21,
   "id": "1c8baf0d-d2ff-4bce-bada-fff8ed86f314",
   "metadata": {},
   "outputs": [],
   "source": [
    "staging_table = pd.concat([\n",
    "    crm_data[[\"System Name\", \"CompanyID\", \"CompanyName\", \"Prepared Company Name\"]],\n",
    "    financial_data[[\"System Name\", \"CompanyID\", \"CompanyName\", \"Prepared Company Name\"]],\n",
    "    excel_data[[\"System Name\", \"CompanyID\", \"CompanyName\", \"Prepared Company Name\"]]\n",
    "], ignore_index=True)\n"
   ]
  },
  {
   "cell_type": "code",
   "execution_count": 22,
   "id": "e2424908-1317-4459-a1bd-c6a46efe0d7c",
   "metadata": {},
   "outputs": [
    {
     "name": "stdout",
     "output_type": "stream",
     "text": [
      "Staging table saved to staging_table.xlsx\n"
     ]
    }
   ],
   "source": [
    "staging_table.to_excel(staging_path, index=False)\n",
    "print(f\"Staging table saved to {staging_path}\")\n"
   ]
  },
  {
   "cell_type": "markdown",
   "id": "e1e135e7-fcc6-4e50-ac68-14747b727bfb",
   "metadata": {
    "jp-MarkdownHeadingCollapsed": true
   },
   "source": [
    "## 6. Fuzzy Matching Logic\n",
    "\n",
    "Apply fuzzy matching across all records in the dataset.  Each record in the dataset is matching with every other record creating a cartesan product of matches."
   ]
  },
  {
   "cell_type": "code",
   "execution_count": 24,
   "id": "c0fcbaf1-7dcf-42a3-a548-1e0b99ce5f13",
   "metadata": {},
   "outputs": [],
   "source": [
    "ref = staging_table[[\"CompanyID\", \"Prepared Company Name\", \"System Name\", \"CompanyName\"]]"
   ]
  },
  {
   "cell_type": "code",
   "execution_count": 25,
   "id": "28b3621e-47c9-495c-912d-84da274f67d1",
   "metadata": {},
   "outputs": [],
   "source": [
    "matches = []\n",
    "for _, row in staging_table.iterrows():\n",
    "    result = process.extractOne(\n",
    "        row[\"Prepared Company Name\"],\n",
    "        ref[\"Prepared Company Name\"],\n",
    "        scorer=fuzz.token_sort_ratio\n",
    "    )\n",
    "    \n",
    "    if result:\n",
    "        match_name, score, index = result\n",
    "        matched = ref.iloc[index]\n",
    "        if( (row[\"System Name\"] == matched[\"System Name\"]) and (row[\"CompanyID\"] == matched[\"CompanyID\"]) ): \n",
    "            continue\n",
    "\n",
    "        matches.append({\n",
    "            \"System Name\": row[\"System Name\"],\n",
    "            \"System ID\": row[\"CompanyID\"],\n",
    "            \"Company Name\": row[\"CompanyName\"],\n",
    "            \"Prepared Company Name\": row[\"Prepared Company Name\"],\n",
    "            \"Matched System Name\": matched[\"System Name\"],\n",
    "            \"Matched System ID\": matched[\"CompanyID\"],\n",
    "            \"Matched Company Name\": matched[\"CompanyName\"],\n",
    "            \"Matched Prepared Name\": match_name,\n",
    "            \"Confidence\": score\n",
    "        })\n"
   ]
  },
  {
   "cell_type": "markdown",
   "id": "57f9ec61-0625-4db6-bad0-2975e3a7d2d9",
   "metadata": {
    "jp-MarkdownHeadingCollapsed": true
   },
   "source": [
    "## 7. Intermediate Validation Output\n",
    "\n",
    "Save the output of fuzzy logic into an intermediate dataset"
   ]
  },
  {
   "cell_type": "code",
   "execution_count": 27,
   "id": "1ea4f111-1658-42f3-ab3e-548d73228b8c",
   "metadata": {},
   "outputs": [],
   "source": [
    "intermediate_df = pd.DataFrame(matches)"
   ]
  },
  {
   "cell_type": "code",
   "execution_count": 28,
   "id": "5a21ef8d-98ed-4999-b67f-49adc8ed77fb",
   "metadata": {},
   "outputs": [
    {
     "name": "stdout",
     "output_type": "stream",
     "text": [
      "Intermediate validation saved to intermediate_validation.xlsx\n"
     ]
    }
   ],
   "source": [
    "intermediate_df.to_excel(intermediate_path, index=False)\n",
    "print(f\"Intermediate validation saved to {intermediate_path}\")"
   ]
  },
  {
   "cell_type": "markdown",
   "id": "9be801b5-64e1-4124-987b-ac4ab654e57d",
   "metadata": {
    "jp-MarkdownHeadingCollapsed": true
   },
   "source": [
    "## 8. User Validation (Simulated threshold)\n",
    "\n",
    "Technically this dataset should be created after user validation of the above output.\n",
    "\n",
    "For the sake of this exercise, we are assuming records with confidence > 90 are good to go."
   ]
  },
  {
   "cell_type": "code",
   "execution_count": 30,
   "id": "108247ba-22d8-4608-831f-444f324fa5b4",
   "metadata": {},
   "outputs": [],
   "source": [
    "validated_df = intermediate_df[intermediate_df[\"Confidence\"] >= 90]"
   ]
  },
  {
   "cell_type": "markdown",
   "id": "404a4872-08ee-4e02-92ef-fd78c31f775f",
   "metadata": {
    "jp-MarkdownHeadingCollapsed": true
   },
   "source": [
    "## 9. Load Master Reference Table\n",
    "\n",
    "Save the validated data into master reference tables for multiple data applications to refer to"
   ]
  },
  {
   "cell_type": "code",
   "execution_count": 32,
   "id": "e63e1ba0-754b-4734-8122-59f777ee55da",
   "metadata": {},
   "outputs": [],
   "source": [
    "master_ref_table = validated_df[[\n",
    "    \"System Name\", \"System ID\", \"Company Name\", \"Prepared Company Name\",\n",
    "    \"Matched System Name\", \"Matched System ID\", \"Matched Company Name\",\n",
    "    \"Matched Prepared Name\", \"Confidence\"\n",
    "]]"
   ]
  },
  {
   "cell_type": "code",
   "execution_count": 33,
   "id": "bd335f99-bc36-48ee-a458-786f56df6e66",
   "metadata": {},
   "outputs": [
    {
     "name": "stdout",
     "output_type": "stream",
     "text": [
      "Master reference table saved to master_reference_table.xlsx\n"
     ]
    }
   ],
   "source": [
    "master_ref_table.to_excel(master_ref_path, index=False)\n",
    "print(f\"Master reference table saved to {master_ref_path}\")"
   ]
  },
  {
   "cell_type": "markdown",
   "id": "a10d604a-ab5f-4ffe-a3ac-e9e0f50c9259",
   "metadata": {
    "jp-MarkdownHeadingCollapsed": true
   },
   "source": [
    "## 10. Printing Output"
   ]
  },
  {
   "cell_type": "code",
   "execution_count": 35,
   "id": "e6fd8c8b-4823-44d2-8e85-5be33897d5cc",
   "metadata": {},
   "outputs": [
    {
     "data": {
      "text/html": [
       "<div>\n",
       "<style scoped>\n",
       "    .dataframe tbody tr th:only-of-type {\n",
       "        vertical-align: middle;\n",
       "    }\n",
       "\n",
       "    .dataframe tbody tr th {\n",
       "        vertical-align: top;\n",
       "    }\n",
       "\n",
       "    .dataframe thead th {\n",
       "        text-align: right;\n",
       "    }\n",
       "</style>\n",
       "<table border=\"1\" class=\"dataframe\">\n",
       "  <thead>\n",
       "    <tr style=\"text-align: right;\">\n",
       "      <th></th>\n",
       "      <th>System Name</th>\n",
       "      <th>System ID</th>\n",
       "      <th>Company Name</th>\n",
       "      <th>Prepared Company Name</th>\n",
       "      <th>Matched System Name</th>\n",
       "      <th>Matched System ID</th>\n",
       "      <th>Matched Company Name</th>\n",
       "      <th>Matched Prepared Name</th>\n",
       "      <th>Confidence</th>\n",
       "    </tr>\n",
       "  </thead>\n",
       "  <tbody>\n",
       "    <tr>\n",
       "      <th>0</th>\n",
       "      <td>CRM</td>\n",
       "      <td>10</td>\n",
       "      <td>Icon Technologies Pte Ltd</td>\n",
       "      <td>icon technologies</td>\n",
       "      <td>CRM</td>\n",
       "      <td>7</td>\n",
       "      <td>Icon Technologies Pte Ltd</td>\n",
       "      <td>icon technologies</td>\n",
       "      <td>100</td>\n",
       "    </tr>\n",
       "    <tr>\n",
       "      <th>1</th>\n",
       "      <td>CRM</td>\n",
       "      <td>12</td>\n",
       "      <td>NextGen Solutions Pte Ltd</td>\n",
       "      <td>nextgen solutions</td>\n",
       "      <td>CRM</td>\n",
       "      <td>9</td>\n",
       "      <td>NextGen Solutions Pte Ltd</td>\n",
       "      <td>nextgen solutions</td>\n",
       "      <td>100</td>\n",
       "    </tr>\n",
       "    <tr>\n",
       "      <th>2</th>\n",
       "      <td>CRM</td>\n",
       "      <td>13</td>\n",
       "      <td>Leung Kai Fook Medical Co Pte Ltd</td>\n",
       "      <td>leung kai fook medical</td>\n",
       "      <td>CRM</td>\n",
       "      <td>4</td>\n",
       "      <td>Leung Kai Fook Medical Co Pte Ltd</td>\n",
       "      <td>leung kai fook medical</td>\n",
       "      <td>100</td>\n",
       "    </tr>\n",
       "    <tr>\n",
       "      <th>3</th>\n",
       "      <td>CRM</td>\n",
       "      <td>14</td>\n",
       "      <td>SkyNet Systems</td>\n",
       "      <td>skynet systems</td>\n",
       "      <td>CRM</td>\n",
       "      <td>8</td>\n",
       "      <td>SkyNet Systems</td>\n",
       "      <td>skynet systems</td>\n",
       "      <td>100</td>\n",
       "    </tr>\n",
       "    <tr>\n",
       "      <th>4</th>\n",
       "      <td>CRM</td>\n",
       "      <td>17</td>\n",
       "      <td>SkyNet Systems</td>\n",
       "      <td>skynet systems</td>\n",
       "      <td>CRM</td>\n",
       "      <td>8</td>\n",
       "      <td>SkyNet Systems</td>\n",
       "      <td>skynet systems</td>\n",
       "      <td>100</td>\n",
       "    </tr>\n",
       "    <tr>\n",
       "      <th>...</th>\n",
       "      <td>...</td>\n",
       "      <td>...</td>\n",
       "      <td>...</td>\n",
       "      <td>...</td>\n",
       "      <td>...</td>\n",
       "      <td>...</td>\n",
       "      <td>...</td>\n",
       "      <td>...</td>\n",
       "      <td>...</td>\n",
       "    </tr>\n",
       "    <tr>\n",
       "      <th>259</th>\n",
       "      <td>EXCEL</td>\n",
       "      <td>96</td>\n",
       "      <td>Zentact</td>\n",
       "      <td>zentact</td>\n",
       "      <td>EXCEL</td>\n",
       "      <td>31</td>\n",
       "      <td>Zentact</td>\n",
       "      <td>zentact</td>\n",
       "      <td>100</td>\n",
       "    </tr>\n",
       "    <tr>\n",
       "      <th>260</th>\n",
       "      <td>EXCEL</td>\n",
       "      <td>97</td>\n",
       "      <td>ALPHA TECH</td>\n",
       "      <td>alpha tech</td>\n",
       "      <td>EXCEL</td>\n",
       "      <td>41</td>\n",
       "      <td>ALPHA TECH</td>\n",
       "      <td>alpha tech</td>\n",
       "      <td>100</td>\n",
       "    </tr>\n",
       "    <tr>\n",
       "      <th>261</th>\n",
       "      <td>EXCEL</td>\n",
       "      <td>98</td>\n",
       "      <td>NextGen Solutions</td>\n",
       "      <td>nextgen solutions</td>\n",
       "      <td>CRM</td>\n",
       "      <td>9</td>\n",
       "      <td>NextGen Solutions Pte Ltd</td>\n",
       "      <td>nextgen solutions</td>\n",
       "      <td>100</td>\n",
       "    </tr>\n",
       "    <tr>\n",
       "      <th>262</th>\n",
       "      <td>EXCEL</td>\n",
       "      <td>99</td>\n",
       "      <td>Global X</td>\n",
       "      <td>global x</td>\n",
       "      <td>CRM</td>\n",
       "      <td>18</td>\n",
       "      <td>Global-X Corporation</td>\n",
       "      <td>global-x</td>\n",
       "      <td>100</td>\n",
       "    </tr>\n",
       "    <tr>\n",
       "      <th>263</th>\n",
       "      <td>EXCEL</td>\n",
       "      <td>100</td>\n",
       "      <td>McD</td>\n",
       "      <td>mcd</td>\n",
       "      <td>EXCEL</td>\n",
       "      <td>5</td>\n",
       "      <td>McD</td>\n",
       "      <td>mcd</td>\n",
       "      <td>100</td>\n",
       "    </tr>\n",
       "  </tbody>\n",
       "</table>\n",
       "<p>264 rows × 9 columns</p>\n",
       "</div>"
      ],
      "text/plain": [
       "    System Name  System ID                       Company Name  \\\n",
       "0           CRM         10          Icon Technologies Pte Ltd   \n",
       "1           CRM         12          NextGen Solutions Pte Ltd   \n",
       "2           CRM         13  Leung Kai Fook Medical Co Pte Ltd   \n",
       "3           CRM         14                     SkyNet Systems   \n",
       "4           CRM         17                     SkyNet Systems   \n",
       "..          ...        ...                                ...   \n",
       "259       EXCEL         96                            Zentact   \n",
       "260       EXCEL         97                         ALPHA TECH   \n",
       "261       EXCEL         98                  NextGen Solutions   \n",
       "262       EXCEL         99                           Global X   \n",
       "263       EXCEL        100                                McD   \n",
       "\n",
       "        Prepared Company Name Matched System Name  Matched System ID  \\\n",
       "0          icon technologies                  CRM                  7   \n",
       "1          nextgen solutions                  CRM                  9   \n",
       "2    leung kai fook medical                   CRM                  4   \n",
       "3              skynet systems                 CRM                  8   \n",
       "4              skynet systems                 CRM                  8   \n",
       "..                        ...                 ...                ...   \n",
       "259                   zentact               EXCEL                 31   \n",
       "260                alpha tech               EXCEL                 41   \n",
       "261         nextgen solutions                 CRM                  9   \n",
       "262                  global x                 CRM                 18   \n",
       "263                       mcd               EXCEL                  5   \n",
       "\n",
       "                  Matched Company Name     Matched Prepared Name  Confidence  \n",
       "0            Icon Technologies Pte Ltd        icon technologies          100  \n",
       "1            NextGen Solutions Pte Ltd        nextgen solutions          100  \n",
       "2    Leung Kai Fook Medical Co Pte Ltd  leung kai fook medical           100  \n",
       "3                       SkyNet Systems            skynet systems         100  \n",
       "4                       SkyNet Systems            skynet systems         100  \n",
       "..                                 ...                       ...         ...  \n",
       "259                            Zentact                   zentact         100  \n",
       "260                         ALPHA TECH                alpha tech         100  \n",
       "261          NextGen Solutions Pte Ltd        nextgen solutions          100  \n",
       "262               Global-X Corporation                 global-x          100  \n",
       "263                                McD                       mcd         100  \n",
       "\n",
       "[264 rows x 9 columns]"
      ]
     },
     "execution_count": 35,
     "metadata": {},
     "output_type": "execute_result"
    }
   ],
   "source": [
    "master_ref_table"
   ]
  },
  {
   "cell_type": "markdown",
   "id": "b4ebe093-d15f-4649-ad2a-4abfbddaa374",
   "metadata": {},
   "source": []
  },
  {
   "cell_type": "code",
   "execution_count": null,
   "id": "96acd25e-f7c7-40e6-a715-a08e2b71b440",
   "metadata": {},
   "outputs": [],
   "source": []
  }
 ],
 "metadata": {
  "kernelspec": {
   "display_name": "Python [conda env:base] *",
   "language": "python",
   "name": "conda-base-py"
  },
  "language_info": {
   "codemirror_mode": {
    "name": "ipython",
    "version": 3
   },
   "file_extension": ".py",
   "mimetype": "text/x-python",
   "name": "python",
   "nbconvert_exporter": "python",
   "pygments_lexer": "ipython3",
   "version": "3.12.7"
  }
 },
 "nbformat": 4,
 "nbformat_minor": 5
}
